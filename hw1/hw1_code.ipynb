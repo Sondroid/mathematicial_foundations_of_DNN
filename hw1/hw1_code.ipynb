{
 "cells": [
  {
   "cell_type": "markdown",
   "id": "8c8e3263",
   "metadata": {},
   "source": [
    "Problem 4"
   ]
  },
  {
   "cell_type": "code",
   "execution_count": 3,
   "id": "6846129e",
   "metadata": {},
   "outputs": [],
   "source": [
    "import numpy as np\n",
    "import matplotlib.pyplot as plt\n",
    "\n",
    "\n",
    "np.seterr(invalid='ignore', over='ignore')  # suppress warning caused by division by inf\n",
    "\n",
    "def f(x):\n",
    "    return 1/(1 + np.exp(3*(x-3))) * 10 * x**2  + 1 / (1 + np.exp(-3*(x-3))) * (0.5*(x-10)**2 + 50)\n",
    "\n",
    "def fprime(x):\n",
    "    return 1 / (1 + np.exp((-3)*(x-3))) * (x-10) + 1/(1 + np.exp(3*(x-3))) * 20 * x + (3* np.exp(9))/(np.exp(9-1.5*x) + np.exp(1.5*x))**2 * ((0.5*(x-10)**2 + 50) - 10 * x**2) \n",
    "\n",
    "# x = np.linspace(-5,20,100)\n",
    "# plt.plot(x,f(x), 'k')\n",
    "# plt.show()\n",
    "\n",
    "def gd(x, lr):\n",
    "    curr = x\n",
    "    for _ in range(10000):\n",
    "        prev = curr\n",
    "        curr = step(prev, lr)\n",
    "    return curr\n",
    "\n",
    "def step(x, lr):\n",
    "    return x - lr * fprime(x)\n",
    "\n",
    "\n",
    "def find_minima(lr):\n",
    "    x_converge = []\n",
    "    start = np.random.uniform(-5, 20, 5)\n",
    "    for x in start:\n",
    "        x_converge = x_converge + [gd(x, lr)]\n",
    "    return x_converge"
   ]
  },
  {
   "cell_type": "code",
   "execution_count": 4,
   "id": "730f6422",
   "metadata": {},
   "outputs": [
    {
     "name": "stdout",
     "output_type": "stream",
     "text": [
      "[-0.001780002229631524, 10.000002009367371, 10.000002009367371, 10.000002009367371, 10.000002009367195]\n"
     ]
    }
   ],
   "source": [
    "np.random.seed(9876)\n",
    "print(find_minima(0.01))"
   ]
  },
  {
   "cell_type": "code",
   "execution_count": 5,
   "id": "e42f6dd7",
   "metadata": {},
   "outputs": [
    {
     "name": "stdout",
     "output_type": "stream",
     "text": [
      "[10.00000200936728, 10.00000200936728, 10.000002009367284, 10.000002009367284, 10.00000200936728]\n"
     ]
    }
   ],
   "source": [
    "np.random.seed(5432)\n",
    "print(find_minima(0.3))"
   ]
  },
  {
   "cell_type": "code",
   "execution_count": 6,
   "id": "9343bc08",
   "metadata": {},
   "outputs": [
    {
     "name": "stdout",
     "output_type": "stream",
     "text": [
      "[nan, nan, nan, nan, nan]\n"
     ]
    }
   ],
   "source": [
    "np.random.seed(10)\n",
    "print(find_minima(4))"
   ]
  },
  {
   "cell_type": "markdown",
   "id": "30b1dcda",
   "metadata": {},
   "source": [
    "Problem 5"
   ]
  },
  {
   "cell_type": "code",
   "execution_count": 7,
   "id": "e984c0fb",
   "metadata": {},
   "outputs": [
    {
     "name": "stdout",
     "output_type": "stream",
     "text": [
      "0.4587586843129764\n"
     ]
    }
   ],
   "source": [
    "import numpy as np\n",
    "\n",
    "class Convolution1d :\n",
    "    def __init__(self, filt) :\n",
    "        self.__filt = filt\n",
    "        self.__r = filt.size\n",
    "        self.T = TransposedConvolution1d(self.__filt)\n",
    "\n",
    "    def __matmul__(self, vector) :\n",
    "        r, n = self.__r, vector.size\n",
    "\n",
    "        return np.asarray([self.__filt.dot(vector[i:i+r]) for i in np.arange(n-r+1)])\n",
    "    \n",
    "class TransposedConvolution1d :\n",
    "    '''\n",
    "    Transpose of 1-dimensional convolution operator used for the \n",
    "    transpose-convolution operation A.T@(...)\n",
    "    '''\n",
    "    def __init__(self, filt) :\n",
    "        self.__filt = filt\n",
    "        self.__r = filt.size\n",
    "\n",
    "    def __matmul__(self, vector) :\n",
    "        r = self.__r\n",
    "        n = vector.size + r - 1\n",
    "\n",
    "        return np.asarray([np.flip(np.concatenate((np.zeros(n-r), self.__filt, np.zeros(n-r)))[i:i+n-r+1]).dot(vector) for i in np.arange(n)])\n",
    "\n",
    "def huber_loss(x) :\n",
    "    return np.sum( (1/2)*(x**2)*(np.abs(x)<=1) + (np.sign(x)*x-1/2)*(np.abs(x)>1) )\n",
    "def huber_grad(x) :\n",
    "    return x*(np.abs(x)<=1) + np.sign(x)*(np.abs(x)>1)\n",
    "\n",
    "\n",
    "r, n, lam = 3, 20, 0.1\n",
    "\n",
    "np.random.seed(0)\n",
    "k = np.random.randn(r)\n",
    "b = np.random.randn(n-r+1)\n",
    "A = Convolution1d(k)\n",
    "#from scipy.linalg import circulant\n",
    "#A = circulant(np.concatenate((np.flip(k),np.zeros(n-r))))[r-1:,:]\n",
    "\n",
    "x = np.zeros(n)\n",
    "alpha = 0.01\n",
    "for _ in range(100) :\n",
    "    x = x - alpha*(A.T@(huber_grad(A@x-b))+lam*x)\n",
    "\n",
    "print(huber_loss(A@x-b)+0.5*lam*np.linalg.norm(x)**2)"
   ]
  }
 ],
 "metadata": {
  "kernelspec": {
   "display_name": "Python 3",
   "language": "python",
   "name": "python3"
  },
  "language_info": {
   "codemirror_mode": {
    "name": "ipython",
    "version": 3
   },
   "file_extension": ".py",
   "mimetype": "text/x-python",
   "name": "python",
   "nbconvert_exporter": "python",
   "pygments_lexer": "ipython3",
   "version": "3.8.6rc1"
  }
 },
 "nbformat": 4,
 "nbformat_minor": 5
}
