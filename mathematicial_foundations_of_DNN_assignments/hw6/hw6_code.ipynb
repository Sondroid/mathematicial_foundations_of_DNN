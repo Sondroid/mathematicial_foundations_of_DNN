{
 "cells": [
  {
   "cell_type": "markdown",
   "metadata": {},
   "source": [
    "Problem 1"
   ]
  },
  {
   "cell_type": "code",
   "execution_count": 213,
   "metadata": {},
   "outputs": [],
   "source": [
    "import torch.nn as nn\n",
    "from torch.utils.data import DataLoader\n",
    "import torch\n",
    "import torchvision\n",
    "import torchvision.transforms as transforms"
   ]
  },
  {
   "cell_type": "code",
   "execution_count": 214,
   "metadata": {},
   "outputs": [
    {
     "data": {
      "text/plain": [
       "<All keys matched successfully>"
      ]
     },
     "execution_count": 214,
     "metadata": {},
     "output_type": "execute_result"
    }
   ],
   "source": [
    "# Instantiate model with BN and load trained parameters\n",
    "class smallNetTrain(nn.Module) :\n",
    "    # CIFAR-10 data is 32*32 images with 3 RGB channels\n",
    "    def __init__(self, input_dim=3*32*32) :\n",
    "        super().__init__()\n",
    "\n",
    "        self.conv1 = nn.Sequential(\n",
    "                            nn.Conv2d(3, 16, kernel_size=3, padding=1),\n",
    "                            nn.BatchNorm2d(16),\n",
    "                            nn.ReLU()\n",
    "                            )      \n",
    "        self.conv2 = nn.Sequential(\n",
    "                            nn.Conv2d(16, 16, kernel_size=3, padding=1),\n",
    "                            nn.BatchNorm2d(16),\n",
    "                            nn.ReLU()\n",
    "                            ) \n",
    "        self.fc1 = nn.Sequential(\n",
    "                            nn.Linear(16*32*32, 32*32),\n",
    "                            nn.BatchNorm1d(32*32),\n",
    "                            nn.ReLU()\n",
    "                            )   \n",
    "        self.fc2 = nn.Sequential(\n",
    "                            nn.Linear(32*32, 10),\n",
    "                            nn.ReLU()\n",
    "                            )   \n",
    "    def forward(self, x) :\n",
    "        x = self.conv1(x)\n",
    "        x = self.conv2(x)\n",
    "        x = x.float().view(-1, 16*32*32)\n",
    "        x = self.fc1(x)\n",
    "        x = self.fc2(x)\n",
    "        \n",
    "        return x\n",
    "    \n",
    "model = smallNetTrain()\n",
    "model.load_state_dict(torch.load(\"./smallNetSaved\",map_location=torch.device('cpu')))"
   ]
  },
  {
   "cell_type": "code",
   "execution_count": 215,
   "metadata": {},
   "outputs": [],
   "source": [
    "# Instantiate model without BN\n",
    "class smallNetTest(nn.Module) :\n",
    "    # CIFAR-10 data is 32*32 images with 3 RGB channels\n",
    "    def __init__(self, input_dim=3*32*32) :\n",
    "        super().__init__()\n",
    "\n",
    "        self.conv1 = nn.Sequential(\n",
    "                            nn.Conv2d(3, 16, kernel_size=3, padding=1),\n",
    "                            nn.ReLU()\n",
    "                            )      \n",
    "        self.conv2 = nn.Sequential(\n",
    "                            nn.Conv2d(16, 16, kernel_size=3, padding=1),\n",
    "                            nn.ReLU()\n",
    "                            ) \n",
    "        self.fc1 = nn.Sequential(\n",
    "                            nn.Linear(16*32*32, 32*32),\n",
    "                            nn.ReLU()\n",
    "                            )   \n",
    "        self.fc2 = nn.Sequential(\n",
    "                            nn.Linear(32*32, 10),\n",
    "                            nn.ReLU()\n",
    "                            )   \n",
    "    def forward(self, x) :\n",
    "        x = self.conv1(x)\n",
    "        x = self.conv2(x)\n",
    "        x = x.float().view(-1, 16*32*32)\n",
    "        x = self.fc1(x)\n",
    "        x = self.fc2(x)\n",
    "        \n",
    "        return x\n",
    "    \n",
    "model_test = smallNetTest()"
   ]
  },
  {
   "cell_type": "code",
   "execution_count": 216,
   "metadata": {},
   "outputs": [],
   "source": [
    "# Initialize weights of model without BN\n",
    "\n",
    "conv1_bn_beta, conv1_bn_gamma = model.conv1[1].bias, model.conv1[1].weight\n",
    "conv1_bn_mean, conv1_bn_var = model.conv1[1].running_mean, model.conv1[1].running_var\n",
    "conv2_bn_beta, conv2_bn_gamma = model.conv2[1].bias, model.conv2[1].weight\n",
    "conv2_bn_mean, conv2_bn_var = model.conv2[1].running_mean, model.conv2[1].running_var\n",
    "fc1_bn_beta, fc1_bn_gamma = model.fc1[1].bias, model.fc1[1].weight\n",
    "fc1_bn_mean, fc1_bn_var = model.fc1[1].running_mean, model.fc1[1].running_var\n",
    "eps = 1e-05"
   ]
  },
  {
   "cell_type": "code",
   "execution_count": 217,
   "metadata": {},
   "outputs": [],
   "source": [
    "# Initialize the following parameters\n",
    "model_test.conv1[0].weight.data = conv1_bn_gamma.view(-1,1,1,1) * model.conv1[0].weight.data / (conv1_bn_var + eps).sqrt().view(-1,1,1,1)\n",
    "model_test.conv1[0].bias.data = conv1_bn_gamma * (model.conv1[0].bias.data - conv1_bn_mean) / (conv1_bn_var + eps).sqrt() + conv1_bn_beta\n",
    "\n",
    "model_test.conv2[0].weight.data = conv2_bn_gamma.view(-1,1,1,1) * model.conv2[0].weight.data / (conv2_bn_var + eps).sqrt().view(-1,1,1,1)\n",
    "model_test.conv2[0].bias.data = conv2_bn_gamma * (model.conv2[0].bias.data - conv2_bn_mean) / (conv2_bn_var + eps).sqrt() + conv2_bn_beta\n",
    "\n",
    "model_test.fc1[0].weight.data = fc1_bn_gamma.unsqueeze(1) * model.fc1[0].weight.data / (fc1_bn_var.unsqueeze(1) + eps).sqrt()\n",
    "model_test.fc1[0].bias.data = fc1_bn_gamma * (model.fc1[0].bias.data - fc1_bn_mean) / (fc1_bn_var + eps).sqrt() + fc1_bn_beta\n",
    "\n",
    "model_test.fc2[0].weight.data = model.fc2[0].weight.data\n",
    "model_test.fc2[0].bias.data = model.fc2[0].bias.data"
   ]
  },
  {
   "cell_type": "code",
   "execution_count": 218,
   "metadata": {},
   "outputs": [
    {
     "name": "stdout",
     "output_type": "stream",
     "text": [
      "tensor(6.5145e-09)\n"
     ]
    }
   ],
   "source": [
    "# Verify difference between model and model_test\n",
    "\n",
    "model.eval()  \n",
    "# model_test.eval()  # not necessary since model_test has no BN or dropout \n",
    "\n",
    "\n",
    "test_dataset = torchvision.datasets.CIFAR10(root='./cifar_10data/',\n",
    "                                train=False, \n",
    "                                transform=transforms.ToTensor(), download = False)\n",
    "test_loader = torch.utils.data.DataLoader(dataset=test_dataset, batch_size=100, shuffle=False)\n",
    "\n",
    "diff = []\n",
    "with torch.no_grad():\n",
    "    for images, _ in test_loader:\n",
    "        diff.append(torch.norm(model(images) - model_test(images))**2) \n",
    "        \n",
    "print(max(diff)) # If less than 1e-08, you got the right answer."
   ]
  },
  {
   "cell_type": "code",
   "execution_count": 219,
   "metadata": {},
   "outputs": [
    {
     "data": {
      "text/plain": [
       "'\\nFor debugging purposes, you may want to match the output of conv1 first before\\nmoving on working on conv2. To do so, you can replace the forward-evaluation\\nfunctions of the two models with \\ndef forward(self, x) :\\n    x = self.conv1(x)\\n    return x\\n'"
      ]
     },
     "execution_count": 219,
     "metadata": {},
     "output_type": "execute_result"
    }
   ],
   "source": [
    "'''\n",
    "For debugging purposes, you may want to match the output of conv1 first before\n",
    "moving on working on conv2. To do so, you can replace the forward-evaluation\n",
    "functions of the two models with \n",
    "def forward(self, x) :\n",
    "    x = self.conv1(x)\n",
    "    return x\n",
    "'''"
   ]
  }
 ],
 "metadata": {
  "interpreter": {
   "hash": "1918e439edc4fef4c1c3eecf8a7ece8936a67f1982afb40c918b57a6d73fc50f"
  },
  "kernelspec": {
   "display_name": "Python 3.8.6rc1 64-bit",
   "name": "python3"
  },
  "language_info": {
   "codemirror_mode": {
    "name": "ipython",
    "version": 3
   },
   "file_extension": ".py",
   "mimetype": "text/x-python",
   "name": "python",
   "nbconvert_exporter": "python",
   "pygments_lexer": "ipython3",
   "version": "3.9.7"
  },
  "orig_nbformat": 4
 },
 "nbformat": 4,
 "nbformat_minor": 2
}
