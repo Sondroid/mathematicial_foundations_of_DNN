{
 "cells": [
  {
   "cell_type": "markdown",
   "metadata": {},
   "source": [
    "# Problem 1"
   ]
  },
  {
   "cell_type": "code",
   "execution_count": 30,
   "metadata": {},
   "outputs": [],
   "source": [
    "import torch\n",
    "import torch.utils.data as data \n",
    "import torch.nn as nn\n",
    "from torch.distributions.normal import Normal \n",
    "from torch.distributions.uniform import Uniform\n",
    "import numpy as np\n",
    "import matplotlib.pyplot as plt"
   ]
  },
  {
   "cell_type": "code",
   "execution_count": 31,
   "metadata": {},
   "outputs": [],
   "source": [
    "epochs = 200\n",
    "learning_rate = 5e-3\n",
    "batch_size = 128\n",
    "n_components=5 # the number of kernel\n",
    "target_distribution = Normal(0.0, 1.0)"
   ]
  },
  {
   "cell_type": "code",
   "execution_count": 32,
   "metadata": {},
   "outputs": [],
   "source": [
    "####################################\n",
    "# STEP 1: Implement 1-d Flow model #\n",
    "# Model is misture of Gaussian CDFs\n",
    "#\n",
    "####################################\n",
    "class Flow1d(nn.Module):\n",
    "    def __init__(self, n_components):\n",
    "        super(Flow1d, self).__init__()\n",
    "        self.mus = nn.Parameter(torch.randn(n_components), requires_grad=True)\n",
    "        self.log_sigmas = nn.Parameter(torch.zeros(n_components), requires_grad=True)\n",
    "        self.weight_logits = nn.Parameter(torch.ones(n_components), requires_grad=True)\n",
    "\n",
    "    def forward(self, x):\n",
    "        x = x.view(-1,1)\n",
    "        weights = self.weight_logits.exp()\n",
    "        distribution = Normal(self.mus, self.log_sigmas.exp())\n",
    "        z = (weights * (distribution.cdf(x) - 0.5)).sum(dim=1)\n",
    "\n",
    "        dz_by_dx = (distribution.log_prob(x).exp() * weights).sum(dim=1)\n",
    "        return z, dz_by_dx"
   ]
  },
  {
   "cell_type": "code",
   "execution_count": 33,
   "metadata": {},
   "outputs": [],
   "source": [
    "################################################\n",
    "# STEP 2: Create Dataset and Create Dataloader #\n",
    "################################################ \n",
    "\n",
    "def mixture_of_gaussians(num, mu_var=(-1,0.25, 0.2,0.25, 1.5,0.25)):\n",
    "    n = num // 3\n",
    "    m1,s1,m2,s2,m3,s3 = mu_var\n",
    "    gaussian1 = np.random.normal(loc=m1, scale=s1, size=(n,))\n",
    "    gaussian2 = np.random.normal(loc=m2, scale=s2, size=(n,))\n",
    "    gaussian3 = np.random.normal(loc=m3, scale=s3, size=(num-n,))\n",
    "    return np.concatenate([gaussian1, gaussian2, gaussian3])\n",
    "\n",
    "class MyDataset(data.Dataset):\n",
    "    def __init__(self, array):\n",
    "        super().__init__()\n",
    "        self.array = array\n",
    "\n",
    "    def __len__(self):\n",
    "        return len(self.array)\n",
    "\n",
    "    def __getitem__(self, index):\n",
    "        return self.array[index]"
   ]
  },
  {
   "cell_type": "code",
   "execution_count": 34,
   "metadata": {},
   "outputs": [],
   "source": [
    "################################\n",
    "# STEP 3: Define Loss Function #\n",
    "################################\n",
    "def loss_function(target_distribution, z, dz_by_dx):\n",
    "    # log(p_Z(z)) = target_distribution.log_prob(z)\n",
    "    # log(dz/dx) = dz_by_dx.log() (flow is defined so that dz/dx>0)\n",
    "    log_likelihood = target_distribution.log_prob(z) + dz_by_dx.log()\n",
    "    return -log_likelihood.mean()  #flip sign, and sum of data X_1,...X_N"
   ]
  },
  {
   "cell_type": "code",
   "execution_count": 35,
   "metadata": {},
   "outputs": [],
   "source": [
    "###########################\n",
    "# STEP 4: Train the model #\n",
    "########################### \n",
    "\n",
    "# create dataloader\n",
    "n_train, n_test = 5000, 1000\n",
    "train_data = mixture_of_gaussians(n_train)\n",
    "test_data = mixture_of_gaussians(n_test)\n",
    "\n",
    "train_loader = data.DataLoader(MyDataset(train_data), batch_size=batch_size, shuffle=True)\n",
    "test_loader = data.DataLoader(MyDataset(test_data), batch_size=batch_size, shuffle=True)\n",
    "\n",
    "# create model\n",
    "flow = Flow1d(n_components)\n",
    "optimizer = torch.optim.Adam(flow.parameters(), lr=learning_rate)\n",
    "\n",
    "train_losses, test_losses = [], []\n",
    "\n",
    "for epoch in range(epochs):\n",
    "    # train\n",
    "#     flow.train()\n",
    "    mean_loss = 0\n",
    "    for i, x in enumerate(train_loader):\n",
    "        z, dz_by_dx = flow(x)\n",
    "        loss = loss_function(target_distribution, z, dz_by_dx)\n",
    "        optimizer.zero_grad()\n",
    "        loss.backward()\n",
    "        optimizer.step()\n",
    "\n",
    "        mean_loss += loss.item()\n",
    "    train_losses.append(mean_loss/(i+1))\n",
    "\n",
    "    # test\n",
    "    flow.eval()\n",
    "    mean_loss = 0\n",
    "    for i, x in enumerate(test_loader):\n",
    "        z, dz_by_dx = flow(x)\n",
    "        loss = loss_function(target_distribution, z, dz_by_dx)\n",
    "\n",
    "        mean_loss += loss.item()\n",
    "    test_losses.append(mean_loss/(i+1))"
   ]
  },
  {
   "cell_type": "markdown",
   "metadata": {},
   "source": [
    "## Visualize training and test data"
   ]
  },
  {
   "cell_type": "code",
   "execution_count": 36,
   "metadata": {},
   "outputs": [
    {
     "data": {
      "image/png": "[encoded data removed]",
      "text/plain": [
       "<Figure size 864x288 with 2 Axes>"
      ]
     },
     "metadata": {
      "needs_background": "light"
     },
     "output_type": "display_data"
    }
   ],
   "source": [
    "_, axes = plt.subplots(1,2, figsize=(12,4))\n",
    "_ = axes[0].hist(train_loader.dataset.array, bins=50)\n",
    "_ = axes[1].hist(test_loader.dataset.array, bins=50)\n",
    "_ = axes[0].set_title('Training data')\n",
    "_ = axes[1].set_title('Test data')"
   ]
  },
  {
   "cell_type": "markdown",
   "metadata": {},
   "source": [
    "## View training and test loss"
   ]
  },
  {
   "cell_type": "code",
   "execution_count": 37,
   "metadata": {},
   "outputs": [
    {
     "data": {
      "text/plain": [
       "<matplotlib.legend.Legend at 0x1c0b0e96a90>"
      ]
     },
     "execution_count": 37,
     "metadata": {},
     "output_type": "execute_result"
    },
    {
     "data": {
      "image/png": "[encoded data removed]",
      "text/plain": [
       "<Figure size 432x288 with 1 Axes>"
      ]
     },
     "metadata": {
      "needs_background": "light"
     },
     "output_type": "display_data"
    }
   ],
   "source": [
    "plt.plot(train_losses, label='train_loss')\n",
    "plt.plot(test_losses, label='test_loss')\n",
    "plt.legend()"
   ]
  },
  {
   "cell_type": "markdown",
   "metadata": {},
   "source": [
    "## View learned distribution and flow map"
   ]
  },
  {
   "cell_type": "code",
   "execution_count": 38,
   "metadata": {},
   "outputs": [
    {
     "data": {
      "image/png": "[encoded data removed]",
      "text/plain": [
       "<Figure size 864x288 with 2 Axes>"
      ]
     },
     "metadata": {
      "needs_background": "light"
     },
     "output_type": "display_data"
    }
   ],
   "source": [
    "x = np.linspace(-3,3,1000)\n",
    "with torch.no_grad():\n",
    "    z, dz_by_dx = flow(torch.FloatTensor(x))\n",
    "    px = (target_distribution.log_prob(z) + dz_by_dx.log()).exp().cpu().numpy()\n",
    "    \n",
    "_, axes = plt.subplots(1,2, figsize=(12,4))\n",
    "_ = axes[0].plot(x,px)\n",
    "_ = axes[0].set_title('Learned distribution')\n",
    "\n",
    "_ = axes[1].plot(x,z)\n",
    "_ = axes[1].set_title('x -> z')"
   ]
  },
  {
   "cell_type": "markdown",
   "metadata": {},
   "source": [
    "## View learned $p_Z$, which is trained to be N(0,1)."
   ]
  },
  {
   "cell_type": "code",
   "execution_count": 39,
   "metadata": {},
   "outputs": [
    {
     "data": {
      "image/png": "[encoded data removed]",
      "text/plain": [
       "<Figure size 432x288 with 1 Axes>"
      ]
     },
     "metadata": {
      "needs_background": "light"
     },
     "output_type": "display_data"
    }
   ],
   "source": [
    "with torch.no_grad():\n",
    "    z, _ = flow(torch.FloatTensor(train_loader.dataset.array))\n",
    "    \n",
    "_ = plt.hist(np.array(z), bins=50)"
   ]
  },
  {
   "cell_type": "markdown",
   "metadata": {},
   "source": [
    "## Sampling X"
   ]
  },
  {
   "cell_type": "code",
   "execution_count": 42,
   "metadata": {},
   "outputs": [
    {
     "data": {
      "image/png": "[encoded data removed]",
      "text/plain": [
       "<Figure size 432x288 with 1 Axes>"
      ]
     },
     "metadata": {
      "needs_background": "light"
     },
     "output_type": "display_data"
    }
   ],
   "source": [
    "# sampling\n",
    "\n",
    "N = 5000\n",
    "z = torch.normal(0,1, size = (N,))\n",
    "x_low = torch.full((N,), -3.)\n",
    "x_high = torch.full((N,), 3.)\n",
    "\n",
    "#Perform bisection\n",
    "with torch.no_grad():\n",
    "    for _ in range(30):\n",
    "        m = (x_low+x_high)/2\n",
    "        f,_ = flow(m)\n",
    "        x_high[f>=z] = m[f>=z]\n",
    "        x_low[f<z] = m[f<z]\n",
    "    x = (x_low+x_high)/2\n",
    "\n",
    "_ = plt.hist(np.array(x), bins=50)\n"
   ]
  },
  {
   "cell_type": "markdown",
   "metadata": {},
   "source": [
    "# Problem 6\n",
    "\n",
    "$$\n",
    "\\hat{I}_N=\n",
    "\\frac{1}{N}\\sum^N_{i=1} \\phi(Y_{i1},\\dots ,Y_{iK}) \\prod^K_{j=1}p^{Y_{ij}}(1-p)^{1-Y_{ij}} / \\prod^K_{j=1}q^{Y_{ij}}(1-q)^{1-Y_{ij}}\\\\\n",
    "=\n",
    "\\frac{1}{N}\\sum^N_{i=1} \\phi(Y_{i1},\\dots ,Y_{iK}) \\prod^K_{j=1}(\\frac{p}{q})^{Y_{ij}}(\\frac{1-p}{1-q})^{1-Y_{ij}}\\\\\n",
    "$$\n",
    "where $Y_i\\sim \\mathcal{Ber}(0.55)$, $\\phi(Y_{i1},\\dots ,Y_{iK})$ denotes indicator to leave with 200$."
   ]
  },
  {
   "cell_type": "code",
   "execution_count": 2,
   "metadata": {},
   "outputs": [],
   "source": [
    "import numpy as np"
   ]
  },
  {
   "cell_type": "code",
   "execution_count": 9,
   "metadata": {},
   "outputs": [],
   "source": [
    "N = 3000\n",
    "K = 600\n",
    "p = 18/37\n",
    "q = 0.55"
   ]
  },
  {
   "cell_type": "code",
   "execution_count": 11,
   "metadata": {},
   "outputs": [],
   "source": [
    "def round(ber):\n",
    "    balance = 100\n",
    "    for result in ber:\n",
    "        balance += 2 * result - 1\n",
    "        if balance == 0 | balance == 200:\n",
    "            break;\n",
    "    if balance == 200: return 1\n",
    "    else: return 0"
   ]
  },
  {
   "cell_type": "code",
   "execution_count": 35,
   "metadata": {},
   "outputs": [
    {
     "name": "stdout",
     "output_type": "stream",
     "text": [
      "2.1e-06\n"
     ]
    }
   ],
   "source": [
    "sample = np.empty([N,], dtype=float)\n",
    "for n in range(N):\n",
    "    ber = np.random.binomial(1, q, K)\n",
    "    sample[n] = round(ber) * (p/q) ** ber.sum() * ((1-p)/(1-q)) ** (K-ber.sum())\n",
    "\n",
    "Ihat = sample.mean()\n",
    "print(format(Ihat, \".1e\"))"
   ]
  },
  {
   "cell_type": "markdown",
   "metadata": {},
   "source": [
    "# Problem 7"
   ]
  },
  {
   "cell_type": "markdown",
   "metadata": {},
   "source": [
    "## (a) log-derivative trick"
   ]
  },
  {
   "cell_type": "code",
   "execution_count": 81,
   "metadata": {},
   "outputs": [
    {
     "name": "stdout",
     "output_type": "stream",
     "text": [
      "mu: 0.447\n",
      "sigma: 0.683\n"
     ]
    }
   ],
   "source": [
    "import torch\n",
    "from torch.distributions.normal import Normal \n",
    "import math\n",
    "\n",
    "mu = torch.tensor([0.])\n",
    "tau = torch.tensor([0.]) # tau = log_sigma\n",
    "lr = 1e-2\n",
    "B = 16\n",
    "iterations = 100\n",
    "\n",
    "for itr in range(iterations):\n",
    "    dist = Normal(mu, tau.exp())\n",
    "    X = dist.sample((B,))\n",
    "    g_mu = (X * torch.sin(X) * (X - mu) / (2*tau).exp()).mean() + mu - 1\n",
    "    g_tau = (X * torch.sin(X) * ((X - mu) ** 2 / (2*tau).exp() - 1)).mean() + tau.exp() - 1\n",
    "    mu -= lr*g_mu\n",
    "    tau -= lr*g_tau\n",
    "    \n",
    "print(\"mu:\", format(mu.item(), \".3f\"))\n",
    "print(\"sigma:\", format(tau.exp().item(), \".3f\"))"
   ]
  },
  {
   "cell_type": "markdown",
   "metadata": {},
   "source": [
    "## (b) reparameterization trick"
   ]
  },
  {
   "cell_type": "code",
   "execution_count": 79,
   "metadata": {},
   "outputs": [
    {
     "name": "stdout",
     "output_type": "stream",
     "text": [
      "mu: 0.454\n",
      "sigma: 0.611\n"
     ]
    }
   ],
   "source": [
    "import torch\n",
    "import math\n",
    "\n",
    "mu = torch.tensor([0.])\n",
    "tau = torch.tensor([0.]) # tau = log_sigma\n",
    "lr = 1e-2\n",
    "B = 16\n",
    "iterations = 10000\n",
    "\n",
    "for itr in range(iterations):\n",
    "    dist = Normal(0, 1)\n",
    "    Y = dist.sample((B,))\n",
    "    X = mu + tau.exp() * Y\n",
    "    phi_prime = torch.sin(X) + X * torch.cos(X)\n",
    "    g_mu = phi_prime.mean() + mu - 1\n",
    "    g_tau = (Y * phi_prime * tau.exp()).mean() + tau.exp() - 1\n",
    "    mu -= lr*g_mu\n",
    "    tau -= lr*g_tau\n",
    "   \n",
    "print(\"mu:\", format(mu.item(), \".3f\"))\n",
    "print(\"sigma:\", format(tau.exp().item(), \".3f\"))"
   ]
  }
 ],
 "metadata": {
  "interpreter": {
   "hash": "1918e439edc4fef4c1c3eecf8a7ece8936a67f1982afb40c918b57a6d73fc50f"
  },
  "kernelspec": {
   "display_name": "Python 3.8.6rc1 64-bit",
   "language": "python",
   "name": "python3"
  },
  "language_info": {
   "codemirror_mode": {
    "name": "ipython",
    "version": 3
   },
   "file_extension": ".py",
   "mimetype": "text/x-python",
   "name": "python",
   "nbconvert_exporter": "python",
   "pygments_lexer": "ipython3",
   "version": "3.8.6rc1"
  },
  "orig_nbformat": 4
 },
 "nbformat": 4,
 "nbformat_minor": 2
}
