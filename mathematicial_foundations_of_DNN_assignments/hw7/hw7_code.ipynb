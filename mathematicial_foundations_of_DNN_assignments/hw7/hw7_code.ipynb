{
 "cells": [
  {
   "cell_type": "code",
   "execution_count": 1,
   "metadata": {},
   "outputs": [],
   "source": [
    "import torch\n",
    "import torch.nn as nn\n",
    "import torch.nn.functional as F\n",
    "from torch.utils.data import DataLoader\n",
    "from torchvision import datasets\n",
    "import torch.optim as optim\n",
    "from torchvision.transforms import transforms\n",
    "from torchvision.utils import save_image\n",
    "\n",
    "import numpy as np\n",
    "import matplotlib.pyplot as plt"
   ]
  },
  {
   "cell_type": "code",
   "execution_count": 2,
   "metadata": {},
   "outputs": [],
   "source": [
    "lr = 0.001\n",
    "batch_size = 100\n",
    "epochs = 10\n",
    "device = torch.device(\"cuda\" if torch.cuda.is_available() else \"cpu\")"
   ]
  },
  {
   "cell_type": "code",
   "execution_count": 3,
   "metadata": {},
   "outputs": [
    {
     "name": "stdout",
     "output_type": "stream",
     "text": [
      "50000\n",
      "10000\n",
      "10000\n",
      "10000\n"
     ]
    }
   ],
   "source": [
    "'''\n",
    "Step 1:\n",
    "'''\n",
    "\n",
    "# MNIST dataset\n",
    "dataset = datasets.MNIST(root='./mnist_data/',\n",
    "                               train=True, \n",
    "                               transform=transforms.ToTensor(),\n",
    "                               download=True)\n",
    "\n",
    "train_dataset, validation_dataset = torch.utils.data.random_split(dataset, [50000, 10000])\n",
    "\n",
    "test_dataset = datasets.MNIST(root='./mnist_data/',\n",
    "                              train=False, \n",
    "                              transform=transforms.ToTensor())\n",
    "\n",
    "# KMNIST dataset, only need test dataset\n",
    "anomaly_dataset = datasets.KMNIST(root='./kmnist_data/',\n",
    "                              train=False, \n",
    "                              transform=transforms.ToTensor(),\n",
    "                              download=True)\n",
    "\n",
    "print(len(train_dataset))  # 50000\n",
    "print(len(validation_dataset))  # 10000\n",
    "print(len(test_dataset))  # 10000\n",
    "print(len(anomaly_dataset))  # 10000"
   ]
  },
  {
   "cell_type": "code",
   "execution_count": 4,
   "metadata": {},
   "outputs": [],
   "source": [
    "'''\n",
    "Step 2: AutoEncoder\n",
    "'''\n",
    "# Define Encoder\n",
    "class Encoder(nn.Module):\n",
    "    def __init__(self):\n",
    "        super(Encoder, self).__init__()\n",
    "        self.fc1 = nn.Linear(784, 256)\n",
    "        self.fc2 = nn.Linear(256, 128)\n",
    "        self.fc3 = nn.Linear(128, 32)\n",
    "    def forward(self, x):\n",
    "        x = x.view(x.size(0), -1)\n",
    "        x = F.relu(self.fc1(x))\n",
    "        x = F.relu(self.fc2(x))\n",
    "        z = F.relu(self.fc3(x))\n",
    "        return z\n",
    "\n",
    "# Define Decoder\n",
    "class Decoder(nn.Module):\n",
    "    def __init__(self):\n",
    "        super(Decoder, self).__init__()\n",
    "        self.fc1 = nn.Linear(32, 128)\n",
    "        self.fc2 = nn.Linear(128, 256)\n",
    "        self.fc3 = nn.Linear(256, 784)\n",
    "    def forward(self, z):\n",
    "        z = F.relu(self.fc1(z))\n",
    "        z = F.relu(self.fc2(z))\n",
    "        x = F.sigmoid(self.fc3(z))  # to make output's pixels are 0~1\n",
    "        x = x.view(x.size(0), 1, 28, 28) \n",
    "        return x"
   ]
  },
  {
   "cell_type": "code",
   "execution_count": 5,
   "metadata": {},
   "outputs": [],
   "source": [
    "'''\n",
    "Step 3: Instantiate model & define loss and optimizer\n",
    "'''\n",
    "enc = Encoder().to(device)\n",
    "dec = Decoder().to(device)\n",
    "loss_function = nn.MSELoss()\n",
    "optimizer = optim.Adam(list(enc.parameters()) + list(dec.parameters()), lr=lr)"
   ]
  },
  {
   "cell_type": "code",
   "execution_count": 6,
   "metadata": {},
   "outputs": [
    {
     "name": "stdout",
     "output_type": "stream",
     "text": [
      "0th epoch starting.\n"
     ]
    },
    {
     "name": "stderr",
     "output_type": "stream",
     "text": [
      "C:\\Users\\JAEHYEON\\AppData\\Local\\Programs\\Python\\Python38\\lib\\site-packages\\torch\\nn\\functional.py:1806: UserWarning: nn.functional.sigmoid is deprecated. Use torch.sigmoid instead.\n",
      "  warnings.warn(\"nn.functional.sigmoid is deprecated. Use torch.sigmoid instead.\")\n"
     ]
    },
    {
     "name": "stdout",
     "output_type": "stream",
     "text": [
      "1th epoch starting.\n",
      "2th epoch starting.\n",
      "3th epoch starting.\n",
      "4th epoch starting.\n",
      "5th epoch starting.\n",
      "6th epoch starting.\n",
      "7th epoch starting.\n",
      "8th epoch starting.\n",
      "9th epoch starting.\n",
      "Time ellapsed in training is: 78.45060300827026\n"
     ]
    },
    {
     "data": {
      "text/plain": [
       "Decoder(\n",
       "  (fc1): Linear(in_features=32, out_features=128, bias=True)\n",
       "  (fc2): Linear(in_features=128, out_features=256, bias=True)\n",
       "  (fc3): Linear(in_features=256, out_features=784, bias=True)\n",
       ")"
      ]
     },
     "execution_count": 6,
     "metadata": {},
     "output_type": "execute_result"
    },
    {
     "data": {
      "image/png": "[encoded data removed]",
      "text/plain": [
       "<Figure size 432x288 with 1 Axes>"
      ]
     },
     "metadata": {
      "needs_background": "light"
     },
     "output_type": "display_data"
    }
   ],
   "source": [
    "'''\n",
    "Step 4: Training\n",
    "'''\n",
    "train_loader = torch.utils.data.DataLoader(dataset=train_dataset, batch_size=batch_size, shuffle=True)\n",
    "\n",
    "\n",
    "train_loss_list = []\n",
    "\n",
    "import time\n",
    "start = time.time()\n",
    "for epoch in range(epochs) :\n",
    "    print(\"{}th epoch starting.\".format(epoch))\n",
    "    enc.train()\n",
    "    dec.train()\n",
    "    for batch, (images, _) in enumerate(train_loader) :\n",
    "        images = images.to(device)\n",
    "        z = enc(images)\n",
    "        reconstructed_images = dec(z)\n",
    "        \n",
    "        optimizer.zero_grad()\n",
    "        train_loss = loss_function(images, reconstructed_images)\n",
    "        train_loss.backward()\n",
    "        train_loss_list.append(train_loss.item())\n",
    "\n",
    "        optimizer.step()\n",
    "\n",
    "        print(f\"[Epoch {epoch:3d}] Processing batch #{batch:3d} reconstruction loss: {train_loss.item():.6f}\", end='\\r')\n",
    "end = time.time()\n",
    "print(\"Time ellapsed in training is: {}\".format(end - start))\n",
    "\n",
    "# plotting train loss\n",
    "plt.plot(range(1,len(train_loss_list)+1), train_loss_list, 'r', label='Training loss')\n",
    "plt.title('Training loss')\n",
    "plt.xlabel('Iterations')\n",
    "plt.ylabel('Loss')\n",
    "plt.legend()\n",
    "plt.savefig('loss.png')\n",
    "\n",
    "enc.eval()\n",
    "dec.eval()"
   ]
  },
  {
   "cell_type": "code",
   "execution_count": 7,
   "metadata": {},
   "outputs": [
    {
     "name": "stdout",
     "output_type": "stream",
     "text": [
      "threshold:  25.728495593190015\n"
     ]
    }
   ],
   "source": [
    "'''\n",
    "Step 5: Calculate standard deviation by using validation set\n",
    "'''\n",
    "validation_loader = torch.utils.data.DataLoader(dataset=validation_dataset, batch_size=batch_size)\n",
    "\n",
    "val_loss_list = []\n",
    "\n",
    "for images, _ in validation_loader:\n",
    "    images = images.to(device)\n",
    "    z = enc(images)\n",
    "    reconstructed_images = dec(z)\n",
    "    val_loss = (images - reconstructed_images).square().sum(dim=(1,2,3))\n",
    "    val_loss_list += val_loss.tolist()\n",
    "\n",
    "mean = np.array(val_loss_list).mean()\n",
    "std = np.array(val_loss_list).std()\n",
    "\n",
    "threshold = mean + 3 * std\n",
    "print(\"threshold: \", threshold)"
   ]
  },
  {
   "cell_type": "code",
   "execution_count": 8,
   "metadata": {},
   "outputs": [
    {
     "name": "stdout",
     "output_type": "stream",
     "text": [
      "misclassified as anomalies:  91\n",
      "type I error rate:  0.0091\n"
     ]
    }
   ],
   "source": [
    "'''\n",
    "Step 6: Anomaly detection (mnist)\n",
    "'''\n",
    "test_loader = torch.utils.data.DataLoader(dataset=test_dataset, batch_size=batch_size)\n",
    "\n",
    "test_loss_list = []\n",
    "\n",
    "for images, _ in test_loader:\n",
    "    images = images.to(device)\n",
    "    z = enc(images)\n",
    "    reconstructed_images = dec(z)\n",
    "    test_loss = (images - reconstructed_images).square().sum(dim=(1,2,3))\n",
    "    test_loss_list += test_loss.tolist()\n",
    "\n",
    "print(\"misclassified as anomalies: \", (test_loss_list > threshold).sum())\n",
    "print(\"type I error rate: \", (test_loss_list > threshold).mean())"
   ]
  },
  {
   "cell_type": "code",
   "execution_count": 9,
   "metadata": {},
   "outputs": [
    {
     "name": "stdout",
     "output_type": "stream",
     "text": [
      "classified as anomalies:  9685\n",
      "type II error rate:  0.0315\n"
     ]
    }
   ],
   "source": [
    "'''\n",
    "Step 7: Anomaly detection (kmnist)\n",
    "'''\n",
    "anomaly_loader = torch.utils.data.DataLoader(dataset=anomaly_dataset, batch_size=batch_size)\n",
    "\n",
    "test_loss_list = []\n",
    "\n",
    "for images, _ in anomaly_loader:\n",
    "    images = images.to(device)\n",
    "    z = enc(images)\n",
    "    reconstructed_images = dec(z)\n",
    "    test_loss = (images - reconstructed_images).square().sum(dim=(1,2,3))\n",
    "    test_loss_list += test_loss.tolist()\n",
    "\n",
    "print(\"classified as anomalies: \", (test_loss_list > threshold).sum())\n",
    "print(\"type II error rate: \", (test_loss_list <= threshold).mean())"
   ]
  }
 ],
 "metadata": {
  "interpreter": {
   "hash": "1918e439edc4fef4c1c3eecf8a7ece8936a67f1982afb40c918b57a6d73fc50f"
  },
  "kernelspec": {
   "display_name": "Python 3.8.6rc1 64-bit",
   "language": "python",
   "name": "python3"
  },
  "language_info": {
   "codemirror_mode": {
    "name": "ipython",
    "version": 3
   },
   "file_extension": ".py",
   "mimetype": "text/x-python",
   "name": "python",
   "nbconvert_exporter": "python",
   "pygments_lexer": "ipython3",
   "version": "3.8.6rc1"
  },
  "orig_nbformat": 4
 },
 "nbformat": 4,
 "nbformat_minor": 2
}
